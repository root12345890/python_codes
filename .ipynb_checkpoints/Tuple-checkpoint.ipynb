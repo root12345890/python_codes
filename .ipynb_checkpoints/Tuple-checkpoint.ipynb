{
 "cells": [
  {
   "cell_type": "code",
   "execution_count": 1,
   "id": "23f72da5",
   "metadata": {},
   "outputs": [],
   "source": [
    "# Create a tuple of mixed data types\n",
    "my_tuple = (1, \"apple\", 3.14, True)"
   ]
  },
  {
   "cell_type": "code",
   "execution_count": 2,
   "id": "ba98123d",
   "metadata": {},
   "outputs": [
    {
     "data": {
      "text/plain": [
       "(1, 'apple', 3.14, True)"
      ]
     },
     "execution_count": 2,
     "metadata": {},
     "output_type": "execute_result"
    }
   ],
   "source": [
    "my_tuple"
   ]
  },
  {
   "cell_type": "code",
   "execution_count": 3,
   "id": "a9841648",
   "metadata": {},
   "outputs": [
    {
     "name": "stdout",
     "output_type": "stream",
     "text": [
      "The first element is: 1\n",
      "The second element is: apple\n"
     ]
    }
   ],
   "source": [
    "# Access elements of the tuple using indexing\n",
    "print(\"The first element is:\", my_tuple[0])\n",
    "print(\"The second element is:\", my_tuple[1])"
   ]
  },
  {
   "cell_type": "code",
   "execution_count": 4,
   "id": "57614022",
   "metadata": {},
   "outputs": [],
   "source": [
    "# Find the length of the tuple\n",
    "length = len(my_tuple)"
   ]
  },
  {
   "cell_type": "code",
   "execution_count": 5,
   "id": "1bccc9e1",
   "metadata": {},
   "outputs": [
    {
     "data": {
      "text/plain": [
       "4"
      ]
     },
     "execution_count": 5,
     "metadata": {},
     "output_type": "execute_result"
    }
   ],
   "source": [
    "length"
   ]
  },
  {
   "cell_type": "code",
   "execution_count": 6,
   "id": "fc4e868a",
   "metadata": {},
   "outputs": [
    {
     "name": "stdout",
     "output_type": "stream",
     "text": [
      "3.14 is in the tuple\n"
     ]
    }
   ],
   "source": [
    "# Check if an element is in the tuple\n",
    "if 3.14 in my_tuple:\n",
    "    print(\"3.14 is in the tuple\")"
   ]
  },
  {
   "cell_type": "code",
   "execution_count": 7,
   "id": "13bf385f",
   "metadata": {},
   "outputs": [
    {
     "name": "stdout",
     "output_type": "stream",
     "text": [
      "Tuple elements:\n",
      "1\n",
      "apple\n",
      "3.14\n",
      "True\n"
     ]
    }
   ],
   "source": [
    "# Iterate through the tuple\n",
    "print(\"Tuple elements:\")\n",
    "for item in my_tuple:\n",
    "    print(item)"
   ]
  },
  {
   "cell_type": "code",
   "execution_count": 8,
   "id": "fd0f238b",
   "metadata": {},
   "outputs": [],
   "source": [
    "# Concatenate tuples\n",
    "tuple1 = (1, 2, 3)\n",
    "tuple2 = (\"a\", \"b\", \"c\")\n",
    "concatenated_tuple = tuple1 + tuple2"
   ]
  },
  {
   "cell_type": "code",
   "execution_count": 9,
   "id": "3ae0012c",
   "metadata": {},
   "outputs": [
    {
     "data": {
      "text/plain": [
       "(1, 2, 3, 'a', 'b', 'c')"
      ]
     },
     "execution_count": 9,
     "metadata": {},
     "output_type": "execute_result"
    }
   ],
   "source": [
    "concatenated_tuple"
   ]
  },
  {
   "cell_type": "code",
   "execution_count": 10,
   "id": "6c7cd1e4",
   "metadata": {},
   "outputs": [],
   "source": [
    "# Repeat a tuple\n",
    "repeated_tuple = tuple1 * 3"
   ]
  },
  {
   "cell_type": "code",
   "execution_count": 11,
   "id": "5f201649",
   "metadata": {},
   "outputs": [
    {
     "data": {
      "text/plain": [
       "(1, 2, 3, 1, 2, 3, 1, 2, 3)"
      ]
     },
     "execution_count": 11,
     "metadata": {},
     "output_type": "execute_result"
    }
   ],
   "source": [
    "repeated_tuple"
   ]
  },
  {
   "cell_type": "code",
   "execution_count": 12,
   "id": "4936f409",
   "metadata": {},
   "outputs": [],
   "source": [
    "# Nested tuples\n",
    "nested_tuple = ((1, 2), (3, 4), (5, 6))"
   ]
  },
  {
   "cell_type": "code",
   "execution_count": 13,
   "id": "13984605",
   "metadata": {},
   "outputs": [
    {
     "data": {
      "text/plain": [
       "((1, 2), (3, 4), (5, 6))"
      ]
     },
     "execution_count": 13,
     "metadata": {},
     "output_type": "execute_result"
    }
   ],
   "source": [
    "nested_tuple"
   ]
  },
  {
   "cell_type": "code",
   "execution_count": 14,
   "id": "8088e49e",
   "metadata": {},
   "outputs": [
    {
     "name": "stdout",
     "output_type": "stream",
     "text": [
      "Element at row 2, column 1: 3\n"
     ]
    }
   ],
   "source": [
    "# Access elements of a nested tuple\n",
    "print(\"Element at row 2, column 1:\", nested_tuple[1][0])"
   ]
  },
  {
   "cell_type": "code",
   "execution_count": null,
   "id": "63d7c2ad",
   "metadata": {},
   "outputs": [],
   "source": []
  }
 ],
 "metadata": {
  "kernelspec": {
   "display_name": "Python 3 (ipykernel)",
   "language": "python",
   "name": "python3"
  },
  "language_info": {
   "codemirror_mode": {
    "name": "ipython",
    "version": 3
   },
   "file_extension": ".py",
   "mimetype": "text/x-python",
   "name": "python",
   "nbconvert_exporter": "python",
   "pygments_lexer": "ipython3",
   "version": "3.11.5"
  }
 },
 "nbformat": 4,
 "nbformat_minor": 5
}
