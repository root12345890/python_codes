{
 "cells": [
  {
   "cell_type": "code",
   "execution_count": 6,
   "id": "b70030bc",
   "metadata": {},
   "outputs": [
    {
     "name": "stdout",
     "output_type": "stream",
     "text": [
      "The first element is: 1\n",
      "The third element is: 3\n"
     ]
    }
   ],
   "source": [
    "# Create a list of integers\n",
    "numbers = [1, 2, 3, 4, 5]\n",
    "\n",
    "# Access and print elements of the list\n",
    "print(\"The first element is:\", numbers[0])\n",
    "print(\"The third element is:\", numbers[2])"
   ]
  },
  {
   "cell_type": "code",
   "execution_count": 7,
   "id": "529e020c",
   "metadata": {},
   "outputs": [],
   "source": [
    "# Modify an element of the list\n",
    "numbers[1] = 10"
   ]
  },
  {
   "cell_type": "code",
   "execution_count": 8,
   "id": "01128499",
   "metadata": {},
   "outputs": [
    {
     "data": {
      "text/plain": [
       "[1, 10, 3, 4, 5]"
      ]
     },
     "execution_count": 8,
     "metadata": {},
     "output_type": "execute_result"
    }
   ],
   "source": [
    "numbers"
   ]
  },
  {
   "cell_type": "code",
   "execution_count": 9,
   "id": "e94375fa",
   "metadata": {},
   "outputs": [],
   "source": [
    "# Add an element to the end of the list\n",
    "numbers.append(6)"
   ]
  },
  {
   "cell_type": "code",
   "execution_count": 10,
   "id": "27308e3c",
   "metadata": {},
   "outputs": [
    {
     "data": {
      "text/plain": [
       "[1, 10, 3, 4, 5, 6]"
      ]
     },
     "execution_count": 10,
     "metadata": {},
     "output_type": "execute_result"
    }
   ],
   "source": [
    "numbers"
   ]
  },
  {
   "cell_type": "code",
   "execution_count": 11,
   "id": "ecf45126",
   "metadata": {},
   "outputs": [],
   "source": [
    "# Remove an element from the list\n",
    "numbers.remove(3)"
   ]
  },
  {
   "cell_type": "code",
   "execution_count": 12,
   "id": "0d20c918",
   "metadata": {},
   "outputs": [
    {
     "data": {
      "text/plain": [
       "[1, 10, 4, 5, 6]"
      ]
     },
     "execution_count": 12,
     "metadata": {},
     "output_type": "execute_result"
    }
   ],
   "source": [
    "numbers"
   ]
  },
  {
   "cell_type": "code",
   "execution_count": 13,
   "id": "9b826080",
   "metadata": {},
   "outputs": [],
   "source": [
    "\n",
    "# Find the length of the list\n",
    "length = len(numbers)"
   ]
  },
  {
   "cell_type": "code",
   "execution_count": 15,
   "id": "8a7a18a2",
   "metadata": {},
   "outputs": [
    {
     "data": {
      "text/plain": [
       "5"
      ]
     },
     "execution_count": 15,
     "metadata": {},
     "output_type": "execute_result"
    }
   ],
   "source": [
    "length"
   ]
  },
  {
   "cell_type": "code",
   "execution_count": 18,
   "id": "4182508b",
   "metadata": {},
   "outputs": [
    {
     "name": "stdout",
     "output_type": "stream",
     "text": [
      "4 is in the list\n"
     ]
    }
   ],
   "source": [
    "\n",
    "# Check if an element is in the list\n",
    "if 4 in numbers:\n",
    "    print(\"4 is in the list\")"
   ]
  },
  {
   "cell_type": "code",
   "execution_count": 19,
   "id": "ce8fdb7e",
   "metadata": {},
   "outputs": [
    {
     "name": "stdout",
     "output_type": "stream",
     "text": [
      "List elements:\n",
      "1\n",
      "10\n",
      "4\n",
      "5\n",
      "6\n"
     ]
    }
   ],
   "source": [
    "# Iterate through the list\n",
    "print(\"List elements:\")\n",
    "for num in numbers:\n",
    "    print(num)"
   ]
  },
  {
   "cell_type": "code",
   "execution_count": 20,
   "id": "c28f2f21",
   "metadata": {},
   "outputs": [],
   "source": [
    "# Sort the list in ascending order\n",
    "numbers.sort()"
   ]
  },
  {
   "cell_type": "code",
   "execution_count": 21,
   "id": "1be685b8",
   "metadata": {},
   "outputs": [
    {
     "data": {
      "text/plain": [
       "[1, 4, 5, 6, 10]"
      ]
     },
     "execution_count": 21,
     "metadata": {},
     "output_type": "execute_result"
    }
   ],
   "source": [
    "numbers"
   ]
  },
  {
   "cell_type": "code",
   "execution_count": 22,
   "id": "3bce406f",
   "metadata": {},
   "outputs": [],
   "source": [
    "# Reverse the list\n",
    "numbers.reverse()"
   ]
  },
  {
   "cell_type": "code",
   "execution_count": 23,
   "id": "8ed63029",
   "metadata": {},
   "outputs": [
    {
     "data": {
      "text/plain": [
       "[10, 6, 5, 4, 1]"
      ]
     },
     "execution_count": 23,
     "metadata": {},
     "output_type": "execute_result"
    }
   ],
   "source": [
    "numbers"
   ]
  },
  {
   "cell_type": "code",
   "execution_count": 24,
   "id": "ba3798f1",
   "metadata": {},
   "outputs": [],
   "source": [
    "# Create a list of mixed data types\n",
    "mixed_list = [1, \"apple\", 3.14, True]"
   ]
  },
  {
   "cell_type": "code",
   "execution_count": 25,
   "id": "a23fcc32",
   "metadata": {},
   "outputs": [
    {
     "data": {
      "text/plain": [
       "[1, 'apple', 3.14, True]"
      ]
     },
     "execution_count": 25,
     "metadata": {},
     "output_type": "execute_result"
    }
   ],
   "source": [
    "mixed_list"
   ]
  },
  {
   "cell_type": "code",
   "execution_count": 26,
   "id": "9e534f02",
   "metadata": {},
   "outputs": [],
   "source": [
    "# Nested lists (lists within a list)\n",
    "nested_list = [[1, 2, 3], [4, 5, 6], [7, 8, 9]]"
   ]
  },
  {
   "cell_type": "code",
   "execution_count": 27,
   "id": "6a2b955b",
   "metadata": {},
   "outputs": [
    {
     "data": {
      "text/plain": [
       "[[1, 2, 3], [4, 5, 6], [7, 8, 9]]"
      ]
     },
     "execution_count": 27,
     "metadata": {},
     "output_type": "execute_result"
    }
   ],
   "source": [
    "nested_list"
   ]
  },
  {
   "cell_type": "code",
   "execution_count": 28,
   "id": "4c0c3474",
   "metadata": {},
   "outputs": [
    {
     "name": "stdout",
     "output_type": "stream",
     "text": [
      "Element at row 2, column 3: 6\n"
     ]
    }
   ],
   "source": [
    "# Access elements of a nested list\n",
    "print(\"Element at row 2, column 3:\", nested_list[1][2])"
   ]
  },
  {
   "cell_type": "code",
   "execution_count": null,
   "id": "34d54a26",
   "metadata": {},
   "outputs": [],
   "source": []
  }
 ],
 "metadata": {
  "kernelspec": {
   "display_name": "Python 3 (ipykernel)",
   "language": "python",
   "name": "python3"
  },
  "language_info": {
   "codemirror_mode": {
    "name": "ipython",
    "version": 3
   },
   "file_extension": ".py",
   "mimetype": "text/x-python",
   "name": "python",
   "nbconvert_exporter": "python",
   "pygments_lexer": "ipython3",
   "version": "3.11.5"
  }
 },
 "nbformat": 4,
 "nbformat_minor": 5
}
