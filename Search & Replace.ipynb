{
 "cells": [
  {
   "cell_type": "code",
   "execution_count": 12,
   "id": "e6d047cc",
   "metadata": {},
   "outputs": [],
   "source": [
    "search_word = 'dhaka'\n",
    "replace_word = 'khulna'\n",
    "\n",
    "with open('text1.txt', 'r') as file:\n",
    "    data = file.read()\n",
    "    data = data.replace(search_word, replace_word)\n",
    "with open('text1.txt', 'w') as file:\n",
    "    file.write(data)\n"
   ]
  },
  {
   "cell_type": "code",
   "execution_count": 13,
   "id": "bf96f9ee",
   "metadata": {},
   "outputs": [
    {
     "data": {
      "text/plain": [
       "'this is khulna city'"
      ]
     },
     "execution_count": 13,
     "metadata": {},
     "output_type": "execute_result"
    }
   ],
   "source": [
    "data"
   ]
  },
  {
   "cell_type": "code",
   "execution_count": null,
   "id": "8327ae33",
   "metadata": {},
   "outputs": [],
   "source": []
  }
 ],
 "metadata": {
  "kernelspec": {
   "display_name": "Python 3 (ipykernel)",
   "language": "python",
   "name": "python3"
  },
  "language_info": {
   "codemirror_mode": {
    "name": "ipython",
    "version": 3
   },
   "file_extension": ".py",
   "mimetype": "text/x-python",
   "name": "python",
   "nbconvert_exporter": "python",
   "pygments_lexer": "ipython3",
   "version": "3.11.5"
  }
 },
 "nbformat": 4,
 "nbformat_minor": 5
}
