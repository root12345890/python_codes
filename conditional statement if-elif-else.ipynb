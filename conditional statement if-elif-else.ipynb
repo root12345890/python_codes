{
 "cells": [
  {
   "cell_type": "code",
   "execution_count": 5,
   "id": "888a2db0",
   "metadata": {},
   "outputs": [
    {
     "name": "stdout",
     "output_type": "stream",
     "text": [
      "enter a number :12\n",
      "12.0 is not divisible by 5 and 2\n"
     ]
    }
   ],
   "source": [
    "num = float(input('enter a number :'))\n",
    "if num%2 == 0:\n",
    "    if num%5 == 0:\n",
    "        print(num,'is divisible by 5 and 2')\n",
    "    else:\n",
    "        print(num,'is not divisible by 5 and 2')\n",
    "else:\n",
    "    print(num,'is not divisible by 5 or 2')"
   ]
  },
  {
   "cell_type": "code",
   "execution_count": 14,
   "id": "4d034b1b",
   "metadata": {},
   "outputs": [
    {
     "name": "stdout",
     "output_type": "stream",
     "text": [
      "enter your unit : 150\n",
      "amount is  250.0\n"
     ]
    }
   ],
   "source": [
    "amount = 0\n",
    "unit = float(input('enter your unit : '))\n",
    "if unit<=100:\n",
    "    amount = 0\n",
    "elif unit>100 and unit<=200:\n",
    "    amount = (unit-100)*5\n",
    "elif unit>200:\n",
    "    amount = (unit-200)*10 + 500\n",
    "print('amount is ',amount)"
   ]
  },
  {
   "cell_type": "code",
   "execution_count": 18,
   "id": "bac716d1",
   "metadata": {},
   "outputs": [
    {
     "name": "stdout",
     "output_type": "stream",
     "text": [
      "enter 1st number: 20\n",
      "enter 2nd number: 30\n",
      "enter 3rd number: 40\n",
      "largest number is : 40\n"
     ]
    }
   ],
   "source": [
    "n1 = int(input('enter 1st number: '))\n",
    "n2 = int(input('enter 2nd number: '))\n",
    "n3 = int(input('enter 3rd number: '))\n",
    "if n1>n2 and n1>n3:\n",
    "    largest = n1\n",
    "elif n2>n1 and n2>n3:\n",
    "    largest = n2\n",
    "else:\n",
    "    largest = n3\n",
    "print('largest number is :',largest)"
   ]
  },
  {
   "cell_type": "code",
   "execution_count": 21,
   "id": "90c01a0c",
   "metadata": {},
   "outputs": [
    {
     "name": "stdout",
     "output_type": "stream",
     "text": [
      "enter number of classes:100\n",
      "enter total attendence : 69\n",
      "you r not eligible\n"
     ]
    }
   ],
   "source": [
    "clasess = int(input('enter number of classes:'))\n",
    "attn = int(input('enter total attendence : '))\n",
    "pp = (attn/clasess)*100\n",
    "if pp >= 75:\n",
    "    print('you r eligible')\n",
    "else:\n",
    "    print('you r not eligible')"
   ]
  },
  {
   "cell_type": "code",
   "execution_count": 31,
   "id": "c7c74736",
   "metadata": {},
   "outputs": [
    {
     "name": "stdout",
     "output_type": "stream",
     "text": [
      "enter the marks : 70\n",
      "B\n"
     ]
    }
   ],
   "source": [
    "marks = int(input('enter the marks : '))\n",
    "if marks < 25:\n",
    "    print('F')\n",
    "elif marks>=25 and marks<=44:\n",
    "    print('E')\n",
    "elif marks>=45 and marks<=49:\n",
    "    print('D')\n",
    "elif marks>=50 and marks<=59:\n",
    "    print('C')\n",
    "elif marks>=60 and marks<=79:\n",
    "    print('B')\n",
    "elif marks>=80 and marks<=89:\n",
    "    print('A')\n",
    "elif marks>=90:\n",
    "    print('A+')\n",
    "else:\n",
    "    print('not student')"
   ]
  },
  {
   "cell_type": "code",
   "execution_count": null,
   "id": "31c120d4",
   "metadata": {},
   "outputs": [],
   "source": []
  }
 ],
 "metadata": {
  "kernelspec": {
   "display_name": "Python 3 (ipykernel)",
   "language": "python",
   "name": "python3"
  },
  "language_info": {
   "codemirror_mode": {
    "name": "ipython",
    "version": 3
   },
   "file_extension": ".py",
   "mimetype": "text/x-python",
   "name": "python",
   "nbconvert_exporter": "python",
   "pygments_lexer": "ipython3",
   "version": "3.11.5"
  }
 },
 "nbformat": 4,
 "nbformat_minor": 5
}
