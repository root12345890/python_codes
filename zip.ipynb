{
 "cells": [
  {
   "cell_type": "code",
   "execution_count": 25,
   "id": "b6f7432d",
   "metadata": {},
   "outputs": [
    {
     "name": "stdout",
     "output_type": "stream",
     "text": [
      "[(1, 'a'), (2, 'b'), (3, 'c')]\n"
     ]
    }
   ],
   "source": [
    "list1 = [1, 2, 3]\n",
    "list2 = ['a', 'b', 'c']\n",
    "\n",
    "zipped = zip(list1, list2)\n",
    "\n",
    "# You can convert the zip object to a list if you want to see the result\n",
    "\n",
    "print(list(zipped))\n",
    "\n"
   ]
  },
  {
   "cell_type": "code",
   "execution_count": 26,
   "id": "c5c97f14",
   "metadata": {},
   "outputs": [
    {
     "data": {
      "text/plain": [
       "[1, 2, 3]"
      ]
     },
     "execution_count": 26,
     "metadata": {},
     "output_type": "execute_result"
    }
   ],
   "source": [
    "list1"
   ]
  },
  {
   "cell_type": "code",
   "execution_count": 23,
   "id": "c048f602",
   "metadata": {},
   "outputs": [
    {
     "data": {
      "text/plain": [
       "['a', 'b', 'c']"
      ]
     },
     "execution_count": 23,
     "metadata": {},
     "output_type": "execute_result"
    }
   ],
   "source": [
    "list2"
   ]
  },
  {
   "cell_type": "code",
   "execution_count": 40,
   "id": "17eb05a6",
   "metadata": {},
   "outputs": [],
   "source": [
    "import zipfile as zp"
   ]
  },
  {
   "cell_type": "code",
   "execution_count": 41,
   "id": "cadc15a7",
   "metadata": {},
   "outputs": [],
   "source": [
    "# Create a ZipFile object in write mode\n",
    "zipp = zp.ZipFile('protected.zip', 'w')\n",
    "\n",
    "# Add files to the zip file\n",
    "zipp.write('Capture.JPG')\n",
    "zipp.write('Capture1.JPG')\n",
    "\n",
    "# Close the ZipFile\n",
    "zipp.close()\n"
   ]
  },
  {
   "cell_type": "markdown",
   "id": "0dea5d1d",
   "metadata": {},
   "source": [
    "# unzip"
   ]
  },
  {
   "cell_type": "code",
   "execution_count": 43,
   "id": "5027dfca",
   "metadata": {},
   "outputs": [],
   "source": [
    "with zp.ZipFile('protected.zip', 'r') as file:\n",
    "    file.extractall('TEMP Unzip')"
   ]
  },
  {
   "cell_type": "code",
   "execution_count": null,
   "id": "ab95d7cf",
   "metadata": {},
   "outputs": [],
   "source": []
  }
 ],
 "metadata": {
  "kernelspec": {
   "display_name": "Python 3 (ipykernel)",
   "language": "python",
   "name": "python3"
  },
  "language_info": {
   "codemirror_mode": {
    "name": "ipython",
    "version": 3
   },
   "file_extension": ".py",
   "mimetype": "text/x-python",
   "name": "python",
   "nbconvert_exporter": "python",
   "pygments_lexer": "ipython3",
   "version": "3.11.5"
  }
 },
 "nbformat": 4,
 "nbformat_minor": 5
}
